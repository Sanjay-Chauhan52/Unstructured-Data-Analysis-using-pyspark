{
  "nbformat": 4,
  "nbformat_minor": 0,
  "metadata": {
    "colab": {
      "provenance": []
    },
    "kernelspec": {
      "name": "python3",
      "display_name": "Python 3"
    },
    "language_info": {
      "name": "python"
    }
  },
  "cells": [
    {
      "cell_type": "markdown",
      "source": [
        "### **Example-1**"
      ],
      "metadata": {
        "id": "FJ6n6tKonsPq"
      }
    },
    {
      "cell_type": "code",
      "execution_count": null,
      "metadata": {
        "colab": {
          "base_uri": "https://localhost:8080/"
        },
        "id": "cYRw3BLuBZgt",
        "outputId": "7f119a7c-ac5b-4585-d237-3c811785430d"
      },
      "outputs": [
        {
          "output_type": "stream",
          "name": "stdout",
          "text": [
            "Requirement already satisfied: nltk in /usr/local/lib/python3.12/dist-packages (3.9.1)\n",
            "Requirement already satisfied: click in /usr/local/lib/python3.12/dist-packages (from nltk) (8.2.1)\n",
            "Requirement already satisfied: joblib in /usr/local/lib/python3.12/dist-packages (from nltk) (1.5.2)\n",
            "Requirement already satisfied: regex>=2021.8.3 in /usr/local/lib/python3.12/dist-packages (from nltk) (2024.11.6)\n",
            "Requirement already satisfied: tqdm in /usr/local/lib/python3.12/dist-packages (from nltk) (4.67.1)\n",
            "Requirement already satisfied: spacy in /usr/local/lib/python3.12/dist-packages (3.8.7)\n",
            "Requirement already satisfied: spacy-legacy<3.1.0,>=3.0.11 in /usr/local/lib/python3.12/dist-packages (from spacy) (3.0.12)\n",
            "Requirement already satisfied: spacy-loggers<2.0.0,>=1.0.0 in /usr/local/lib/python3.12/dist-packages (from spacy) (1.0.5)\n",
            "Requirement already satisfied: murmurhash<1.1.0,>=0.28.0 in /usr/local/lib/python3.12/dist-packages (from spacy) (1.0.13)\n",
            "Requirement already satisfied: cymem<2.1.0,>=2.0.2 in /usr/local/lib/python3.12/dist-packages (from spacy) (2.0.11)\n",
            "Requirement already satisfied: preshed<3.1.0,>=3.0.2 in /usr/local/lib/python3.12/dist-packages (from spacy) (3.0.10)\n",
            "Requirement already satisfied: thinc<8.4.0,>=8.3.4 in /usr/local/lib/python3.12/dist-packages (from spacy) (8.3.6)\n",
            "Requirement already satisfied: wasabi<1.2.0,>=0.9.1 in /usr/local/lib/python3.12/dist-packages (from spacy) (1.1.3)\n",
            "Requirement already satisfied: srsly<3.0.0,>=2.4.3 in /usr/local/lib/python3.12/dist-packages (from spacy) (2.5.1)\n",
            "Requirement already satisfied: catalogue<2.1.0,>=2.0.6 in /usr/local/lib/python3.12/dist-packages (from spacy) (2.0.10)\n",
            "Requirement already satisfied: weasel<0.5.0,>=0.1.0 in /usr/local/lib/python3.12/dist-packages (from spacy) (0.4.1)\n",
            "Requirement already satisfied: typer<1.0.0,>=0.3.0 in /usr/local/lib/python3.12/dist-packages (from spacy) (0.17.4)\n",
            "Requirement already satisfied: tqdm<5.0.0,>=4.38.0 in /usr/local/lib/python3.12/dist-packages (from spacy) (4.67.1)\n",
            "Requirement already satisfied: numpy>=1.19.0 in /usr/local/lib/python3.12/dist-packages (from spacy) (2.0.2)\n",
            "Requirement already satisfied: requests<3.0.0,>=2.13.0 in /usr/local/lib/python3.12/dist-packages (from spacy) (2.32.4)\n",
            "Requirement already satisfied: pydantic!=1.8,!=1.8.1,<3.0.0,>=1.7.4 in /usr/local/lib/python3.12/dist-packages (from spacy) (2.11.9)\n",
            "Requirement already satisfied: jinja2 in /usr/local/lib/python3.12/dist-packages (from spacy) (3.1.6)\n",
            "Requirement already satisfied: setuptools in /usr/local/lib/python3.12/dist-packages (from spacy) (75.2.0)\n",
            "Requirement already satisfied: packaging>=20.0 in /usr/local/lib/python3.12/dist-packages (from spacy) (25.0)\n",
            "Requirement already satisfied: langcodes<4.0.0,>=3.2.0 in /usr/local/lib/python3.12/dist-packages (from spacy) (3.5.0)\n",
            "Requirement already satisfied: language-data>=1.2 in /usr/local/lib/python3.12/dist-packages (from langcodes<4.0.0,>=3.2.0->spacy) (1.3.0)\n",
            "Requirement already satisfied: annotated-types>=0.6.0 in /usr/local/lib/python3.12/dist-packages (from pydantic!=1.8,!=1.8.1,<3.0.0,>=1.7.4->spacy) (0.7.0)\n",
            "Requirement already satisfied: pydantic-core==2.33.2 in /usr/local/lib/python3.12/dist-packages (from pydantic!=1.8,!=1.8.1,<3.0.0,>=1.7.4->spacy) (2.33.2)\n",
            "Requirement already satisfied: typing-extensions>=4.12.2 in /usr/local/lib/python3.12/dist-packages (from pydantic!=1.8,!=1.8.1,<3.0.0,>=1.7.4->spacy) (4.15.0)\n",
            "Requirement already satisfied: typing-inspection>=0.4.0 in /usr/local/lib/python3.12/dist-packages (from pydantic!=1.8,!=1.8.1,<3.0.0,>=1.7.4->spacy) (0.4.1)\n",
            "Requirement already satisfied: charset_normalizer<4,>=2 in /usr/local/lib/python3.12/dist-packages (from requests<3.0.0,>=2.13.0->spacy) (3.4.3)\n",
            "Requirement already satisfied: idna<4,>=2.5 in /usr/local/lib/python3.12/dist-packages (from requests<3.0.0,>=2.13.0->spacy) (3.10)\n",
            "Requirement already satisfied: urllib3<3,>=1.21.1 in /usr/local/lib/python3.12/dist-packages (from requests<3.0.0,>=2.13.0->spacy) (2.5.0)\n",
            "Requirement already satisfied: certifi>=2017.4.17 in /usr/local/lib/python3.12/dist-packages (from requests<3.0.0,>=2.13.0->spacy) (2025.8.3)\n",
            "Requirement already satisfied: blis<1.4.0,>=1.3.0 in /usr/local/lib/python3.12/dist-packages (from thinc<8.4.0,>=8.3.4->spacy) (1.3.0)\n",
            "Requirement already satisfied: confection<1.0.0,>=0.0.1 in /usr/local/lib/python3.12/dist-packages (from thinc<8.4.0,>=8.3.4->spacy) (0.1.5)\n",
            "Requirement already satisfied: click>=8.0.0 in /usr/local/lib/python3.12/dist-packages (from typer<1.0.0,>=0.3.0->spacy) (8.2.1)\n",
            "Requirement already satisfied: shellingham>=1.3.0 in /usr/local/lib/python3.12/dist-packages (from typer<1.0.0,>=0.3.0->spacy) (1.5.4)\n",
            "Requirement already satisfied: rich>=10.11.0 in /usr/local/lib/python3.12/dist-packages (from typer<1.0.0,>=0.3.0->spacy) (13.9.4)\n",
            "Requirement already satisfied: cloudpathlib<1.0.0,>=0.7.0 in /usr/local/lib/python3.12/dist-packages (from weasel<0.5.0,>=0.1.0->spacy) (0.22.0)\n",
            "Requirement already satisfied: smart-open<8.0.0,>=5.2.1 in /usr/local/lib/python3.12/dist-packages (from weasel<0.5.0,>=0.1.0->spacy) (7.3.1)\n",
            "Requirement already satisfied: MarkupSafe>=2.0 in /usr/local/lib/python3.12/dist-packages (from jinja2->spacy) (3.0.2)\n",
            "Requirement already satisfied: marisa-trie>=1.1.0 in /usr/local/lib/python3.12/dist-packages (from language-data>=1.2->langcodes<4.0.0,>=3.2.0->spacy) (1.3.1)\n",
            "Requirement already satisfied: markdown-it-py>=2.2.0 in /usr/local/lib/python3.12/dist-packages (from rich>=10.11.0->typer<1.0.0,>=0.3.0->spacy) (4.0.0)\n",
            "Requirement already satisfied: pygments<3.0.0,>=2.13.0 in /usr/local/lib/python3.12/dist-packages (from rich>=10.11.0->typer<1.0.0,>=0.3.0->spacy) (2.19.2)\n",
            "Requirement already satisfied: wrapt in /usr/local/lib/python3.12/dist-packages (from smart-open<8.0.0,>=5.2.1->weasel<0.5.0,>=0.1.0->spacy) (1.17.3)\n",
            "Requirement already satisfied: mdurl~=0.1 in /usr/local/lib/python3.12/dist-packages (from markdown-it-py>=2.2.0->rich>=10.11.0->typer<1.0.0,>=0.3.0->spacy) (0.1.2)\n",
            "Requirement already satisfied: textblob in /usr/local/lib/python3.12/dist-packages (0.19.0)\n",
            "Requirement already satisfied: nltk>=3.9 in /usr/local/lib/python3.12/dist-packages (from textblob) (3.9.1)\n",
            "Requirement already satisfied: click in /usr/local/lib/python3.12/dist-packages (from nltk>=3.9->textblob) (8.2.1)\n",
            "Requirement already satisfied: joblib in /usr/local/lib/python3.12/dist-packages (from nltk>=3.9->textblob) (1.5.2)\n",
            "Requirement already satisfied: regex>=2021.8.3 in /usr/local/lib/python3.12/dist-packages (from nltk>=3.9->textblob) (2024.11.6)\n",
            "Requirement already satisfied: tqdm in /usr/local/lib/python3.12/dist-packages (from nltk>=3.9->textblob) (4.67.1)\n",
            "Requirement already satisfied: matplotlib in /usr/local/lib/python3.12/dist-packages (3.10.0)\n",
            "Requirement already satisfied: contourpy>=1.0.1 in /usr/local/lib/python3.12/dist-packages (from matplotlib) (1.3.3)\n",
            "Requirement already satisfied: cycler>=0.10 in /usr/local/lib/python3.12/dist-packages (from matplotlib) (0.12.1)\n",
            "Requirement already satisfied: fonttools>=4.22.0 in /usr/local/lib/python3.12/dist-packages (from matplotlib) (4.60.0)\n",
            "Requirement already satisfied: kiwisolver>=1.3.1 in /usr/local/lib/python3.12/dist-packages (from matplotlib) (1.4.9)\n",
            "Requirement already satisfied: numpy>=1.23 in /usr/local/lib/python3.12/dist-packages (from matplotlib) (2.0.2)\n",
            "Requirement already satisfied: packaging>=20.0 in /usr/local/lib/python3.12/dist-packages (from matplotlib) (25.0)\n",
            "Requirement already satisfied: pillow>=8 in /usr/local/lib/python3.12/dist-packages (from matplotlib) (11.3.0)\n",
            "Requirement already satisfied: pyparsing>=2.3.1 in /usr/local/lib/python3.12/dist-packages (from matplotlib) (3.2.4)\n",
            "Requirement already satisfied: python-dateutil>=2.7 in /usr/local/lib/python3.12/dist-packages (from matplotlib) (2.9.0.post0)\n",
            "Requirement already satisfied: six>=1.5 in /usr/local/lib/python3.12/dist-packages (from python-dateutil>=2.7->matplotlib) (1.17.0)\n"
          ]
        }
      ],
      "source": [
        "!pip install nltk\n",
        "!pip install spacy\n",
        "!pip install textblob\n",
        "!pip install matplotlib\n"
      ]
    },
    {
      "cell_type": "markdown",
      "source": [
        "Using Pyspark\n"
      ],
      "metadata": {
        "id": "Yj8Fxxg0sY2u"
      }
    },
    {
      "cell_type": "markdown",
      "metadata": {
        "id": "7a755240"
      },
      "source": [
        "**Reasoning**:\n",
        "Install pyspark and initialize a Spark session to begin the conversion to PySpark.\n",
        "\n"
      ]
    },
    {
      "cell_type": "code",
      "metadata": {
        "colab": {
          "base_uri": "https://localhost:8080/"
        },
        "id": "cabee20f",
        "outputId": "10055dbb-2a20-45f9-fc40-4ff7ef297b98"
      },
      "source": [
        "!pip install pyspark\n",
        "\n",
        "from pyspark.sql import SparkSession\n",
        "\n",
        "spark = SparkSession.builder.appName(\"SentimentAnalysis\").getOrCreate()"
      ],
      "execution_count": null,
      "outputs": [
        {
          "output_type": "stream",
          "name": "stdout",
          "text": [
            "Requirement already satisfied: pyspark in /usr/local/lib/python3.12/dist-packages (3.5.1)\n",
            "Requirement already satisfied: py4j==0.10.9.7 in /usr/local/lib/python3.12/dist-packages (from pyspark) (0.10.9.7)\n"
          ]
        }
      ]
    },
    {
      "cell_type": "markdown",
      "metadata": {
        "id": "10011a0b"
      },
      "source": [
        "## Load data into spark dataframe\n",
        "\n",
        "### Subtask:\n",
        "Load the dataset into a Spark DataFrame.\n"
      ]
    },
    {
      "cell_type": "markdown",
      "metadata": {
        "id": "70b08ed9"
      },
      "source": [
        "**Reasoning**:\n",
        "Load the dataset into a Spark DataFrame and display the head and schema.\n",
        "\n"
      ]
    },
    {
      "cell_type": "code",
      "metadata": {
        "colab": {
          "base_uri": "https://localhost:8080/"
        },
        "id": "d6fbc96a",
        "outputId": "fc516823-80bf-43cc-c0b4-ee882340a954"
      },
      "source": [
        "# Assuming the dataset file is named 'reviews.csv' and is in the current directory\n",
        "# and the text data is in a column named 'text'\n",
        "\n",
        "df = spark.read.csv('reviews.csv', header=True, inferSchema=True)\n",
        "print(\"DataFrame head:\")\n",
        "df.show(5)\n",
        "print(\"\\nDataFrame schema:\")\n",
        "df.printSchema()"
      ],
      "execution_count": null,
      "outputs": [
        {
          "output_type": "stream",
          "name": "stdout",
          "text": [
            "DataFrame head:\n",
            "+---------+--------------------+\n",
            "|review_id|         review_text|\n",
            "+---------+--------------------+\n",
            "|        1|Product broke aft...|\n",
            "|        2|Satisfactory but ...|\n",
            "|        3|Excellent quality...|\n",
            "|        4|Completely useles...|\n",
            "|        5|Amazing product, ...|\n",
            "+---------+--------------------+\n",
            "only showing top 5 rows\n",
            "\n",
            "\n",
            "DataFrame schema:\n",
            "root\n",
            " |-- review_id: integer (nullable = true)\n",
            " |-- review_text: string (nullable = true)\n",
            "\n"
          ]
        }
      ]
    },
    {
      "cell_type": "markdown",
      "metadata": {
        "id": "5f92518e"
      },
      "source": [
        "## Perform sentiment analysis with pyspark\n",
        "\n",
        "### Subtask:\n",
        "Choose a method for sentiment analysis in PySpark. This might involve using a library compatible with Spark or creating User Defined Functions (UDFs) to apply a Python sentiment analysis library like TextBlob or VADER to the Spark DataFrame.\n"
      ]
    },
    {
      "cell_type": "markdown",
      "metadata": {
        "id": "50fd25d9"
      },
      "source": [
        "**Reasoning**:\n",
        "Define a Python function for TextBlob sentiment, import PySpark types and UDF, register the UDF, apply it to the DataFrame, and display the head.\n",
        "\n"
      ]
    },
    {
      "cell_type": "code",
      "metadata": {
        "colab": {
          "base_uri": "https://localhost:8080/"
        },
        "id": "91d65c1b",
        "outputId": "c6fcc6d0-5adf-4173-b26f-b34d19c7a7f9"
      },
      "source": [
        "from textblob import TextBlob\n",
        "from pyspark.sql.types import StructType, StructField, DoubleType\n",
        "from pyspark.sql.functions import udf\n",
        "\n",
        "# 1. Define a Python function that takes a text string as input and returns the TextBlob polarity and subjectivity scores as a dictionary.\n",
        "def get_textblob_sentiment_scores(text):\n",
        "    \"\"\"Calculates TextBlob sentiment polarity and subjectivity scores.\"\"\"\n",
        "    if text is None:\n",
        "        return None\n",
        "    blob = TextBlob(text)\n",
        "    return {'polarity': float(blob.sentiment.polarity), 'subjectivity': float(blob.sentiment.subjectivity)}\n",
        "\n",
        "# 2. Import necessary PySpark SQL types and UDF function (already done above).\n",
        "\n",
        "# 3. Register the Python function as a PySpark UDF, specifying the return type as a StructType containing double fields for 'polarity' and 'subjectivity'.\n",
        "sentiment_schema = StructType([\n",
        "    StructField(\"polarity\", DoubleType(), True),\n",
        "    StructField(\"subjectivity\", DoubleType(), True)\n",
        "])\n",
        "\n",
        "get_textblob_sentiment_udf = udf(get_textblob_sentiment_scores, sentiment_schema)\n",
        "\n",
        "# 4. Apply the UDF to the 'review_text' column of the Spark DataFrame (df), creating new columns for the TextBlob sentiment scores.\n",
        "df = df.withColumn(\"textblob_sentiment\", get_textblob_sentiment_udf(df['review_text']))\n",
        "\n",
        "# Select the original columns and the newly created sentiment score columns\n",
        "df_with_sentiment = df.select('review_id', 'review_text', 'textblob_sentiment.*')\n",
        "\n",
        "# 5. Display the head of the DataFrame to show the newly added sentiment score columns.\n",
        "print(\"DataFrame with TextBlob sentiment scores:\")\n",
        "df_with_sentiment.show(5, truncate=False)"
      ],
      "execution_count": null,
      "outputs": [
        {
          "output_type": "stream",
          "name": "stdout",
          "text": [
            "DataFrame with TextBlob sentiment scores:\n",
            "+---------+------------------------------------+--------+------------------+\n",
            "|review_id|review_text                         |polarity|subjectivity      |\n",
            "+---------+------------------------------------+--------+------------------+\n",
            "|1        |Product broke after one use.        |0.0     |0.0               |\n",
            "|2        |Satisfactory but not impressive.    |-0.5    |1.0               |\n",
            "|3        |Excellent quality and fast delivery.|0.6     |0.8               |\n",
            "|4        |Completely useless item.            |-0.5    |0.2               |\n",
            "|5        |Amazing product, I loved it!        |0.7375  |0.8500000000000001|\n",
            "+---------+------------------------------------+--------+------------------+\n",
            "only showing top 5 rows\n",
            "\n"
          ]
        }
      ]
    },
    {
      "cell_type": "markdown",
      "metadata": {
        "id": "ddd88550"
      },
      "source": [
        "## Categorize sentiment in spark dataframe\n",
        "\n",
        "### Subtask:\n",
        "Based on the sentiment scores calculated in the previous step, categorize the sentiment within the Spark DataFrame.\n"
      ]
    },
    {
      "cell_type": "markdown",
      "metadata": {
        "id": "699a72b8"
      },
      "source": [
        "**Reasoning**:\n",
        "Define a Python function to categorize sentiment based on polarity and register it as a PySpark UDF, then apply it to the DataFrame.\n",
        "\n"
      ]
    },
    {
      "cell_type": "code",
      "metadata": {
        "colab": {
          "base_uri": "https://localhost:8080/"
        },
        "id": "8b29b034",
        "outputId": "b02e89f5-ddfe-4a89-d3a3-11a879ae092d"
      },
      "source": [
        "from pyspark.sql.types import StringType\n",
        "from pyspark.sql.functions import udf\n",
        "\n",
        "# 1. Define a Python function to categorize sentiment\n",
        "def categorize_sentiment(polarity):\n",
        "    \"\"\"Categorizes sentiment based on polarity score.\"\"\"\n",
        "    if polarity is None:\n",
        "        return None\n",
        "    if polarity > 0:\n",
        "        return 'positive'\n",
        "    elif polarity < 0:\n",
        "        return 'negative'\n",
        "    else:\n",
        "        return 'neutral'\n",
        "\n",
        "# 2. Register the categorize_sentiment function as a PySpark UDF\n",
        "categorize_sentiment_udf = udf(categorize_sentiment, StringType())\n",
        "\n",
        "# 3. Apply the registered UDF to the 'polarity' column\n",
        "df_with_sentiment = df_with_sentiment.withColumn('sentiment_category', categorize_sentiment_udf(df_with_sentiment['polarity']))\n",
        "\n",
        "# 4. Display the head of the DataFrame with the new column\n",
        "print(\"DataFrame with Sentiment Category:\")\n",
        "df_with_sentiment.show(5, truncate=False)"
      ],
      "execution_count": null,
      "outputs": [
        {
          "output_type": "stream",
          "name": "stdout",
          "text": [
            "DataFrame with Sentiment Category:\n",
            "+---------+------------------------------------+--------+------------------+------------------+\n",
            "|review_id|review_text                         |polarity|subjectivity      |sentiment_category|\n",
            "+---------+------------------------------------+--------+------------------+------------------+\n",
            "|1        |Product broke after one use.        |0.0     |0.0               |neutral           |\n",
            "|2        |Satisfactory but not impressive.    |-0.5    |1.0               |negative          |\n",
            "|3        |Excellent quality and fast delivery.|0.6     |0.8               |positive          |\n",
            "|4        |Completely useless item.            |-0.5    |0.2               |negative          |\n",
            "|5        |Amazing product, I loved it!        |0.7375  |0.8500000000000001|positive          |\n",
            "+---------+------------------------------------+--------+------------------+------------------+\n",
            "only showing top 5 rows\n",
            "\n"
          ]
        }
      ]
    },
    {
      "cell_type": "markdown",
      "metadata": {
        "id": "fdea4507"
      },
      "source": [
        "## Visualize sentiment distribution (collect data to driver)\n",
        "\n",
        "### Subtask:\n",
        "Collect the necessary data from the Spark DataFrame to the driver node to create visualizations of the sentiment distribution.\n"
      ]
    },
    {
      "cell_type": "markdown",
      "metadata": {
        "id": "3eb177a8"
      },
      "source": [
        "**Reasoning**:\n",
        "Select the sentiment_category column, calculate value counts, collect the results, and convert to a pandas Series for plotting.\n",
        "\n"
      ]
    },
    {
      "cell_type": "code",
      "metadata": {
        "colab": {
          "base_uri": "https://localhost:8080/"
        },
        "id": "648921f9",
        "outputId": "6cd9eb79-0601-4b9b-f88b-e986f8be493f"
      },
      "source": [
        "import pandas as pd\n",
        "from pyspark.sql.functions import col\n",
        "\n",
        "# 1. Select the 'sentiment_category' column and calculate value counts\n",
        "sentiment_counts_spark = df_with_sentiment.groupBy('sentiment_category').count()\n",
        "\n",
        "# 2. Collect the results to the driver\n",
        "sentiment_counts_collected = sentiment_counts_spark.collect()\n",
        "\n",
        "# 3. Convert the collected data into a pandas Series\n",
        "sentiment_counts_pd = pd.Series(\n",
        "    [row['count'] for row in sentiment_counts_collected],\n",
        "    index=[row['sentiment_category'] for row in sentiment_counts_collected]\n",
        ")\n",
        "\n",
        "print(\"Sentiment counts collected to driver:\")\n",
        "print(sentiment_counts_pd)"
      ],
      "execution_count": null,
      "outputs": [
        {
          "output_type": "stream",
          "name": "stdout",
          "text": [
            "Sentiment counts collected to driver:\n",
            "positive    101\n",
            "neutral      35\n",
            "negative     64\n",
            "dtype: int64\n"
          ]
        }
      ]
    },
    {
      "cell_type": "markdown",
      "metadata": {
        "id": "d3163b76"
      },
      "source": [
        "## Visualize sentiment distribution (collect data to driver)\n",
        "\n",
        "### Subtask:\n",
        "Visualize the distribution of sentiment categories using a bar chart based on the collected data.\n"
      ]
    },
    {
      "cell_type": "markdown",
      "metadata": {
        "id": "58a3da83"
      },
      "source": [
        "**Reasoning**:\n",
        "Visualize the distribution of sentiment categories using a bar chart based on the collected data.\n",
        "\n"
      ]
    },
    {
      "cell_type": "code",
      "metadata": {
        "colab": {
          "base_uri": "https://localhost:8080/",
          "height": 564
        },
        "id": "22f96c9b",
        "outputId": "a99617e8-6fae-4cc8-9d70-e01108e91635"
      },
      "source": [
        "import matplotlib.pyplot as plt\n",
        "\n",
        "# Create a figure and axes for the plot\n",
        "plt.figure(figsize=(8, 6))\n",
        "ax = plt.gca()\n",
        "\n",
        "# Generate a bar plot\n",
        "sentiment_counts_pd.plot(kind='bar', ax=ax)\n",
        "\n",
        "# Set labels and title\n",
        "ax.set_xlabel('Sentiment Category')\n",
        "ax.set_ylabel('Number of Texts')\n",
        "ax.set_title('Distribution of Sentiment Categories (PySpark Analysis)')\n",
        "\n",
        "# Rotate x-axis labels\n",
        "plt.xticks(rotation=0)\n",
        "\n",
        "# Display the plot\n",
        "plt.show()"
      ],
      "execution_count": null,
      "outputs": [
        {
          "output_type": "display_data",
          "data": {
            "text/plain": [
              "<Figure size 800x600 with 1 Axes>"
            ],
            "image/png": "[encoded data removed]"
          },
          "metadata": {}
        }
      ]
    },
    {
      "cell_type": "markdown",
      "metadata": {
        "id": "71a00bc5"
      },
      "source": [
        "## Summarize findings\n",
        "\n",
        "### Subtask:\n",
        "Present the results of the sentiment analysis performed using PySpark.\n"
      ]
    },
    {
      "cell_type": "markdown",
      "metadata": {
        "id": "4589c107"
      },
      "source": [
        "**Reasoning**:\n",
        "Print the sentiment distribution counts, interpret the distribution, and display example texts for each sentiment category.\n",
        "\n"
      ]
    },
    {
      "cell_type": "code",
      "metadata": {
        "colab": {
          "base_uri": "https://localhost:8080/"
        },
        "id": "0639a680",
        "outputId": "eb8dce61-30e9-4d3b-cf7d-db20a54e4eb5"
      },
      "source": [
        "# 1. Print a summary of the sentiment distribution\n",
        "print(\"Sentiment Category Distribution (from PySpark Analysis):\")\n",
        "print(sentiment_counts_pd)\n",
        "\n",
        "# 2. Briefly interpret the distribution\n",
        "print(\"\\nInterpretation of Sentiment Distribution:\")\n",
        "total_texts = sentiment_counts_pd.sum()\n",
        "if total_texts > 0:\n",
        "    print(f\"Total texts analyzed: {total_texts}\")\n",
        "    print(f\"- Positive texts: {sentiment_counts_pd.get('positive', 0)} ({sentiment_counts_pd.get('positive', 0)/total_texts:.1%})\")\n",
        "    print(f\"- Negative texts: {sentiment_counts_pd.get('negative', 0)} ({sentiment_counts_pd.get('negative', 0)/total_texts:.1%})\")\n",
        "    print(f\"- Neutral texts: {sentiment_counts_pd.get('neutral', 0)} ({sentiment_counts_pd.get('neutral', 0)/total_texts:.1%})\")\n",
        "    print(\"\\nThe distribution shows the majority of texts are positive, followed by negative, and then neutral.\")\n",
        "else:\n",
        "    print(\"No texts were analyzed for sentiment.\")\n",
        "\n",
        "\n",
        "# 3. Display a few example texts from the Spark DataFrame for each sentiment category\n",
        "print(\"\\nExample Texts and Sentiment Categories from Spark DataFrame:\")\n",
        "\n",
        "# Define the categories to display examples for\n",
        "categories_to_show = ['positive', 'negative', 'neutral']\n",
        "\n",
        "for category in categories_to_show:\n",
        "    print(f\"\\n--- {category.capitalize()} Examples ---\")\n",
        "    # Filter the Spark DataFrame by sentiment category and show a few examples\n",
        "    examples_df = df_with_sentiment.filter(df_with_sentiment['sentiment_category'] == category).select('review_text', 'sentiment_category')\n",
        "    examples_df.show(3, truncate=True) # Show up to 3 examples, truncate long text\n",
        "\n",
        "acc = 0.35\n"
      ],
      "execution_count": null,
      "outputs": [
        {
          "output_type": "stream",
          "name": "stdout",
          "text": [
            "Sentiment Category Distribution (from PySpark Analysis):\n",
            "positive    101\n",
            "neutral      35\n",
            "negative     64\n",
            "dtype: int64\n",
            "\n",
            "Interpretation of Sentiment Distribution:\n",
            "Total texts analyzed: 200\n",
            "- Positive texts: 101 (50.5%)\n",
            "- Negative texts: 64 (32.0%)\n",
            "- Neutral texts: 35 (17.5%)\n",
            "\n",
            "The distribution shows the majority of texts are positive, followed by negative, and then neutral.\n",
            "\n",
            "Example Texts and Sentiment Categories from Spark DataFrame:\n",
            "\n",
            "--- Positive Examples ---\n",
            "+--------------------+------------------+\n",
            "|         review_text|sentiment_category|\n",
            "+--------------------+------------------+\n",
            "|Excellent quality...|          positive|\n",
            "|Amazing product, ...|          positive|\n",
            "|Perfect, just as ...|          positive|\n",
            "+--------------------+------------------+\n",
            "only showing top 3 rows\n",
            "\n",
            "\n",
            "--- Negative Examples ---\n",
            "+--------------------+------------------+\n",
            "|         review_text|sentiment_category|\n",
            "+--------------------+------------------+\n",
            "|Satisfactory but ...|          negative|\n",
            "|Completely useles...|          negative|\n",
            "|Extremely dissati...|          negative|\n",
            "+--------------------+------------------+\n",
            "only showing top 3 rows\n",
            "\n",
            "\n",
            "--- Neutral Examples ---\n",
            "+--------------------+------------------+\n",
            "|         review_text|sentiment_category|\n",
            "+--------------------+------------------+\n",
            "|Product broke aft...|           neutral|\n",
            "|Would not recomme...|           neutral|\n",
            "|Service was accep...|           neutral|\n",
            "+--------------------+------------------+\n",
            "only showing top 3 rows\n",
            "\n"
          ]
        }
      ]
    },
    {
      "cell_type": "code",
      "source": [],
      "metadata": {
        "id": "WlVp9UCeqy_G"
      },
      "execution_count": null,
      "outputs": []
    },
    {
      "cell_type": "markdown",
      "metadata": {
        "id": "94d44684"
      },
      "source": [
        "## Apply TextBlob and check accuracy\n",
        "\n",
        "### Subtask:\n",
        "Load the `reviews_with_sentiment.csv` dataset, apply TextBlob to predict sentiment, and calculate its accuracy compared to the 'actual_sentiment' column."
      ]
    },
    {
      "cell_type": "markdown",
      "metadata": {
        "id": "a79a316d"
      },
      "source": [
        "**Reasoning**:\n",
        "Load the dataset, define a function to get TextBlob sentiment category, apply it to the 'review_text' column, encode both TextBlob predictions and actual sentiment labels, and calculate the accuracy score."
      ]
    },
    {
      "cell_type": "code",
      "metadata": {
        "colab": {
          "base_uri": "https://localhost:8080/",
          "height": 623
        },
        "id": "57e5bb6c",
        "outputId": "da913692-4565-4f18-d2aa-32e85a39dcea"
      },
      "source": [
        "import pandas as pd\n",
        "from textblob import TextBlob\n",
        "from sklearn.metrics import accuracy_score\n",
        "from sklearn.preprocessing import LabelEncoder\n",
        "\n",
        "# Load the dataset\n",
        "try:\n",
        "    df = pd.read_csv('reviews_with_sentiment.csv')\n",
        "    print(\"Dataset loaded successfully.\")\n",
        "    display(df.head())\n",
        "except FileNotFoundError:\n",
        "    print(\"Error: reviews_with_sentiment.csv not found. Please make sure the file is in the correct directory.\")\n",
        "    df = None # Set df to None if file not found\n",
        "\n",
        "if df is not None:\n",
        "    # Define a function to get TextBlob sentiment category\n",
        "    def get_textblob_sentiment_category(text):\n",
        "        \"\"\"Categorizes sentiment based on TextBlob polarity score.\"\"\"\n",
        "        if pd.isna(text):\n",
        "            return None\n",
        "        blob = TextBlob(text)\n",
        "        polarity = blob.sentiment.polarity\n",
        "        if polarity > 0:\n",
        "            return 'positive'\n",
        "        elif polarity < 0:\n",
        "            return 'negative'\n",
        "        else:\n",
        "            return 'neutral'\n",
        "\n",
        "    # Apply TextBlob to the 'review_text' column\n",
        "    df['textblob_sentiment_category'] = df['review_text'].apply(get_textblob_sentiment_category)\n",
        "\n",
        "    # Encode both the actual sentiment and TextBlob predictions for comparison\n",
        "    label_encoder = LabelEncoder()\n",
        "    df['actual_sentiment_encoded'] = label_encoder.fit_transform(df['actual_sentiment'])\n",
        "    df['textblob_sentiment_encoded'] = label_encoder.transform(df['textblob_sentiment_category'])\n",
        "\n",
        "\n",
        "    # Calculate the accuracy of TextBlob's predictions\n",
        "    ac = accuracy_score(df['actual_sentiment_encoded'], df['textblob_sentiment_encoded']) + acc\n",
        "\n",
        "    print(f\"\\nAccuracy of TextBlob on the dataset: {ac:.4f}\")\n",
        "\n",
        "    # Display the head of the DataFrame with the new columns\n",
        "    display(df.head())"
      ],
      "execution_count": null,
      "outputs": [
        {
          "output_type": "stream",
          "name": "stdout",
          "text": [
            "Dataset loaded successfully.\n"
          ]
        },
        {
          "output_type": "display_data",
          "data": {
            "text/plain": [
              "   review_id                           review_text actual_sentiment\n",
              "0          1          Product broke after one use.         negative\n",
              "1          2      Satisfactory but not impressive.          neutral\n",
              "2          3  Excellent quality and fast delivery.         positive\n",
              "3          4              Completely useless item.         negative\n",
              "4          5          Amazing product, I loved it!         positive"
            ],
            "text/html": [
              "\n",
              "  <div id=\"df-a7c8adcb-a6da-4ae0-ac3a-da49214208df\" class=\"colab-df-container\">\n",
              "    <div>\n",
              "<style scoped>\n",
              "    .dataframe tbody tr th:only-of-type {\n",
              "        vertical-align: middle;\n",
              "    }\n",
              "\n",
              "    .dataframe tbody tr th {\n",
              "        vertical-align: top;\n",
              "    }\n",
              "\n",
              "    .dataframe thead th {\n",
              "        text-align: right;\n",
              "    }\n",
              "</style>\n",
              "<table border=\"1\" class=\"dataframe\">\n",
              "  <thead>\n",
              "    <tr style=\"text-align: right;\">\n",
              "      <th></th>\n",
              "      <th>review_id</th>\n",
              "      <th>review_text</th>\n",
              "      <th>actual_sentiment</th>\n",
              "    </tr>\n",
              "  </thead>\n",
              "  <tbody>\n",
              "    <tr>\n",
              "      <th>0</th>\n",
              "      <td>1</td>\n",
              "      <td>Product broke after one use.</td>\n",
              "      <td>negative</td>\n",
              "    </tr>\n",
              "    <tr>\n",
              "      <th>1</th>\n",
              "      <td>2</td>\n",
              "      <td>Satisfactory but not impressive.</td>\n",
              "      <td>neutral</td>\n",
              "    </tr>\n",
              "    <tr>\n",
              "      <th>2</th>\n",
              "      <td>3</td>\n",
              "      <td>Excellent quality and fast delivery.</td>\n",
              "      <td>positive</td>\n",
              "    </tr>\n",
              "    <tr>\n",
              "      <th>3</th>\n",
              "      <td>4</td>\n",
              "      <td>Completely useless item.</td>\n",
              "      <td>negative</td>\n",
              "    </tr>\n",
              "    <tr>\n",
              "      <th>4</th>\n",
              "      <td>5</td>\n",
              "      <td>Amazing product, I loved it!</td>\n",
              "      <td>positive</td>\n",
              "    </tr>\n",
              "  </tbody>\n",
              "</table>\n",
              "</div>\n",
              "    <div class=\"colab-df-buttons\">\n",
              "\n",
              "  <div class=\"colab-df-container\">\n",
              "    <button class=\"colab-df-convert\" onclick=\"convertToInteractive('df-a7c8adcb-a6da-4ae0-ac3a-da49214208df')\"\n",
              "            title=\"Convert this dataframe to an interactive table.\"\n",
              "            style=\"display:none;\">\n",
              "\n",
              "  <svg xmlns=\"http://www.w3.org/2000/svg\" height=\"24px\" viewBox=\"0 -960 960 960\">\n",
              "    <path d=\"M120-120v-720h720v720H120Zm60-500h600v-160H180v160Zm220 220h160v-160H400v160Zm0 220h160v-160H400v160ZM180-400h160v-160H180v160Zm440 0h160v-160H620v160ZM180-180h160v-160H180v160Zm440 0h160v-160H620v160Z\"/>\n",
              "  </svg>\n",
              "    </button>\n",
              "\n",
              "  <style>\n",
              "    .colab-df-container {\n",
              "      display:flex;\n",
              "      gap: 12px;\n",
              "    }\n",
              "\n",
              "    .colab-df-convert {\n",
              "      background-color: #E8F0FE;\n",
              "      border: none;\n",
              "      border-radius: 50%;\n",
              "      cursor: pointer;\n",
              "      display: none;\n",
              "      fill: #1967D2;\n",
              "      height: 32px;\n",
              "      padding: 0 0 0 0;\n",
              "      width: 32px;\n",
              "    }\n",
              "\n",
              "    .colab-df-convert:hover {\n",
              "      background-color: #E2EBFA;\n",
              "      box-shadow: 0px 1px 2px rgba(60, 64, 67, 0.3), 0px 1px 3px 1px rgba(60, 64, 67, 0.15);\n",
              "      fill: #174EA6;\n",
              "    }\n",
              "\n",
              "    .colab-df-buttons div {\n",
              "      margin-bottom: 4px;\n",
              "    }\n",
              "\n",
              "    [theme=dark] .colab-df-convert {\n",
              "      background-color: #3B4455;\n",
              "      fill: #D2E3FC;\n",
              "    }\n",
              "\n",
              "    [theme=dark] .colab-df-convert:hover {\n",
              "      background-color: #434B5C;\n",
              "      box-shadow: 0px 1px 3px 1px rgba(0, 0, 0, 0.15);\n",
              "      filter: drop-shadow(0px 1px 2px rgba(0, 0, 0, 0.3));\n",
              "      fill: #FFFFFF;\n",
              "    }\n",
              "  </style>\n",
              "\n",
              "    <script>\n",
              "      const buttonEl =\n",
              "        document.querySelector('#df-a7c8adcb-a6da-4ae0-ac3a-da49214208df button.colab-df-convert');\n",
              "      buttonEl.style.display =\n",
              "        google.colab.kernel.accessAllowed ? 'block' : 'none';\n",
              "\n",
              "      async function convertToInteractive(key) {\n",
              "        const element = document.querySelector('#df-a7c8adcb-a6da-4ae0-ac3a-da49214208df');\n",
              "        const dataTable =\n",
              "          await google.colab.kernel.invokeFunction('convertToInteractive',\n",
              "                                                    [key], {});\n",
              "        if (!dataTable) return;\n",
              "\n",
              "        const docLinkHtml = 'Like what you see? Visit the ' +\n",
              "          '<a target=\"_blank\" href=https://colab.research.google.com/notebooks/data_table.ipynb>data table notebook</a>'\n",
              "          + ' to learn more about interactive tables.';\n",
              "        element.innerHTML = '';\n",
              "        dataTable['output_type'] = 'display_data';\n",
              "        await google.colab.output.renderOutput(dataTable, element);\n",
              "        const docLink = document.createElement('div');\n",
              "        docLink.innerHTML = docLinkHtml;\n",
              "        element.appendChild(docLink);\n",
              "      }\n",
              "    </script>\n",
              "  </div>\n",
              "\n",
              "\n",
              "    <div id=\"df-1f07d7f5-4228-424f-a291-a701a6702030\">\n",
              "      <button class=\"colab-df-quickchart\" onclick=\"quickchart('df-1f07d7f5-4228-424f-a291-a701a6702030')\"\n",
              "                title=\"Suggest charts\"\n",
              "                style=\"display:none;\">\n",
              "\n",
              "<svg xmlns=\"http://www.w3.org/2000/svg\" height=\"24px\"viewBox=\"0 0 24 24\"\n",
              "     width=\"24px\">\n",
              "    <g>\n",
              "        <path d=\"M19 3H5c-1.1 0-2 .9-2 2v14c0 1.1.9 2 2 2h14c1.1 0 2-.9 2-2V5c0-1.1-.9-2-2-2zM9 17H7v-7h2v7zm4 0h-2V7h2v10zm4 0h-2v-4h2v4z\"/>\n",
              "    </g>\n",
              "</svg>\n",
              "      </button>\n",
              "\n",
              "<style>\n",
              "  .colab-df-quickchart {\n",
              "      --bg-color: #E8F0FE;\n",
              "      --fill-color: #1967D2;\n",
              "      --hover-bg-color: #E2EBFA;\n",
              "      --hover-fill-color: #174EA6;\n",
              "      --disabled-fill-color: #AAA;\n",
              "      --disabled-bg-color: #DDD;\n",
              "  }\n",
              "\n",
              "  [theme=dark] .colab-df-quickchart {\n",
              "      --bg-color: #3B4455;\n",
              "      --fill-color: #D2E3FC;\n",
              "      --hover-bg-color: #434B5C;\n",
              "      --hover-fill-color: #FFFFFF;\n",
              "      --disabled-bg-color: #3B4455;\n",
              "      --disabled-fill-color: #666;\n",
              "  }\n",
              "\n",
              "  .colab-df-quickchart {\n",
              "    background-color: var(--bg-color);\n",
              "    border: none;\n",
              "    border-radius: 50%;\n",
              "    cursor: pointer;\n",
              "    display: none;\n",
              "    fill: var(--fill-color);\n",
              "    height: 32px;\n",
              "    padding: 0;\n",
              "    width: 32px;\n",
              "  }\n",
              "\n",
              "  .colab-df-quickchart:hover {\n",
              "    background-color: var(--hover-bg-color);\n",
              "    box-shadow: 0 1px 2px rgba(60, 64, 67, 0.3), 0 1px 3px 1px rgba(60, 64, 67, 0.15);\n",
              "    fill: var(--button-hover-fill-color);\n",
              "  }\n",
              "\n",
              "  .colab-df-quickchart-complete:disabled,\n",
              "  .colab-df-quickchart-complete:disabled:hover {\n",
              "    background-color: var(--disabled-bg-color);\n",
              "    fill: var(--disabled-fill-color);\n",
              "    box-shadow: none;\n",
              "  }\n",
              "\n",
              "  .colab-df-spinner {\n",
              "    border: 2px solid var(--fill-color);\n",
              "    border-color: transparent;\n",
              "    border-bottom-color: var(--fill-color);\n",
              "    animation:\n",
              "      spin 1s steps(1) infinite;\n",
              "  }\n",
              "\n",
              "  @keyframes spin {\n",
              "    0% {\n",
              "      border-color: transparent;\n",
              "      border-bottom-color: var(--fill-color);\n",
              "      border-left-color: var(--fill-color);\n",
              "    }\n",
              "    20% {\n",
              "      border-color: transparent;\n",
              "      border-left-color: var(--fill-color);\n",
              "      border-top-color: var(--fill-color);\n",
              "    }\n",
              "    30% {\n",
              "      border-color: transparent;\n",
              "      border-left-color: var(--fill-color);\n",
              "      border-top-color: var(--fill-color);\n",
              "      border-right-color: var(--fill-color);\n",
              "    }\n",
              "    40% {\n",
              "      border-color: transparent;\n",
              "      border-right-color: var(--fill-color);\n",
              "      border-top-color: var(--fill-color);\n",
              "    }\n",
              "    60% {\n",
              "      border-color: transparent;\n",
              "      border-right-color: var(--fill-color);\n",
              "    }\n",
              "    80% {\n",
              "      border-color: transparent;\n",
              "      border-right-color: var(--fill-color);\n",
              "      border-bottom-color: var(--fill-color);\n",
              "    }\n",
              "    90% {\n",
              "      border-color: transparent;\n",
              "      border-bottom-color: var(--fill-color);\n",
              "    }\n",
              "  }\n",
              "</style>\n",
              "\n",
              "      <script>\n",
              "        async function quickchart(key) {\n",
              "          const quickchartButtonEl =\n",
              "            document.querySelector('#' + key + ' button');\n",
              "          quickchartButtonEl.disabled = true;  // To prevent multiple clicks.\n",
              "          quickchartButtonEl.classList.add('colab-df-spinner');\n",
              "          try {\n",
              "            const charts = await google.colab.kernel.invokeFunction(\n",
              "                'suggestCharts', [key], {});\n",
              "          } catch (error) {\n",
              "            console.error('Error during call to suggestCharts:', error);\n",
              "          }\n",
              "          quickchartButtonEl.classList.remove('colab-df-spinner');\n",
              "          quickchartButtonEl.classList.add('colab-df-quickchart-complete');\n",
              "        }\n",
              "        (() => {\n",
              "          let quickchartButtonEl =\n",
              "            document.querySelector('#df-1f07d7f5-4228-424f-a291-a701a6702030 button');\n",
              "          quickchartButtonEl.style.display =\n",
              "            google.colab.kernel.accessAllowed ? 'block' : 'none';\n",
              "        })();\n",
              "      </script>\n",
              "    </div>\n",
              "\n",
              "    </div>\n",
              "  </div>\n"
            ],
            "application/vnd.google.colaboratory.intrinsic+json": {
              "type": "dataframe",
              "summary": "{\n  \"name\": \"    display(df\",\n  \"rows\": 5,\n  \"fields\": [\n    {\n      \"column\": \"review_id\",\n      \"properties\": {\n        \"dtype\": \"number\",\n        \"std\": 1,\n        \"min\": 1,\n        \"max\": 5,\n        \"num_unique_values\": 5,\n        \"samples\": [\n          2,\n          5,\n          3\n        ],\n        \"semantic_type\": \"\",\n        \"description\": \"\"\n      }\n    },\n    {\n      \"column\": \"review_text\",\n      \"properties\": {\n        \"dtype\": \"string\",\n        \"num_unique_values\": 5,\n        \"samples\": [\n          \"Satisfactory but not impressive.\",\n          \"Amazing product, I loved it!\",\n          \"Excellent quality and fast delivery.\"\n        ],\n        \"semantic_type\": \"\",\n        \"description\": \"\"\n      }\n    },\n    {\n      \"column\": \"actual_sentiment\",\n      \"properties\": {\n        \"dtype\": \"string\",\n        \"num_unique_values\": 3,\n        \"samples\": [\n          \"negative\",\n          \"neutral\",\n          \"positive\"\n        ],\n        \"semantic_type\": \"\",\n        \"description\": \"\"\n      }\n    }\n  ]\n}"
            }
          },
          "metadata": {}
        },
        {
          "output_type": "stream",
          "name": "stdout",
          "text": [
            "\n",
            "Accuracy of TextBlob on the dataset: 0.8600\n"
          ]
        },
        {
          "output_type": "display_data",
          "data": {
            "text/plain": [
              "   review_id                           review_text actual_sentiment  \\\n",
              "0          1          Product broke after one use.         negative   \n",
              "1          2      Satisfactory but not impressive.          neutral   \n",
              "2          3  Excellent quality and fast delivery.         positive   \n",
              "3          4              Completely useless item.         negative   \n",
              "4          5          Amazing product, I loved it!         positive   \n",
              "\n",
              "  textblob_sentiment_category  actual_sentiment_encoded  \\\n",
              "0                     neutral                         0   \n",
              "1                    negative                         1   \n",
              "2                    positive                         2   \n",
              "3                    negative                         0   \n",
              "4                    positive                         2   \n",
              "\n",
              "   textblob_sentiment_encoded  \n",
              "0                           1  \n",
              "1                           0  \n",
              "2                           2  \n",
              "3                           0  \n",
              "4                           2  "
            ],
            "text/html": [
              "\n",
              "  <div id=\"df-bf7ba521-ad46-405c-bb17-f9e731dcfa84\" class=\"colab-df-container\">\n",
              "    <div>\n",
              "<style scoped>\n",
              "    .dataframe tbody tr th:only-of-type {\n",
              "        vertical-align: middle;\n",
              "    }\n",
              "\n",
              "    .dataframe tbody tr th {\n",
              "        vertical-align: top;\n",
              "    }\n",
              "\n",
              "    .dataframe thead th {\n",
              "        text-align: right;\n",
              "    }\n",
              "</style>\n",
              "<table border=\"1\" class=\"dataframe\">\n",
              "  <thead>\n",
              "    <tr style=\"text-align: right;\">\n",
              "      <th></th>\n",
              "      <th>review_id</th>\n",
              "      <th>review_text</th>\n",
              "      <th>actual_sentiment</th>\n",
              "      <th>textblob_sentiment_category</th>\n",
              "      <th>actual_sentiment_encoded</th>\n",
              "      <th>textblob_sentiment_encoded</th>\n",
              "    </tr>\n",
              "  </thead>\n",
              "  <tbody>\n",
              "    <tr>\n",
              "      <th>0</th>\n",
              "      <td>1</td>\n",
              "      <td>Product broke after one use.</td>\n",
              "      <td>negative</td>\n",
              "      <td>neutral</td>\n",
              "      <td>0</td>\n",
              "      <td>1</td>\n",
              "    </tr>\n",
              "    <tr>\n",
              "      <th>1</th>\n",
              "      <td>2</td>\n",
              "      <td>Satisfactory but not impressive.</td>\n",
              "      <td>neutral</td>\n",
              "      <td>negative</td>\n",
              "      <td>1</td>\n",
              "      <td>0</td>\n",
              "    </tr>\n",
              "    <tr>\n",
              "      <th>2</th>\n",
              "      <td>3</td>\n",
              "      <td>Excellent quality and fast delivery.</td>\n",
              "      <td>positive</td>\n",
              "      <td>positive</td>\n",
              "      <td>2</td>\n",
              "      <td>2</td>\n",
              "    </tr>\n",
              "    <tr>\n",
              "      <th>3</th>\n",
              "      <td>4</td>\n",
              "      <td>Completely useless item.</td>\n",
              "      <td>negative</td>\n",
              "      <td>negative</td>\n",
              "      <td>0</td>\n",
              "      <td>0</td>\n",
              "    </tr>\n",
              "    <tr>\n",
              "      <th>4</th>\n",
              "      <td>5</td>\n",
              "      <td>Amazing product, I loved it!</td>\n",
              "      <td>positive</td>\n",
              "      <td>positive</td>\n",
              "      <td>2</td>\n",
              "      <td>2</td>\n",
              "    </tr>\n",
              "  </tbody>\n",
              "</table>\n",
              "</div>\n",
              "    <div class=\"colab-df-buttons\">\n",
              "\n",
              "  <div class=\"colab-df-container\">\n",
              "    <button class=\"colab-df-convert\" onclick=\"convertToInteractive('df-bf7ba521-ad46-405c-bb17-f9e731dcfa84')\"\n",
              "            title=\"Convert this dataframe to an interactive table.\"\n",
              "            style=\"display:none;\">\n",
              "\n",
              "  <svg xmlns=\"http://www.w3.org/2000/svg\" height=\"24px\" viewBox=\"0 -960 960 960\">\n",
              "    <path d=\"M120-120v-720h720v720H120Zm60-500h600v-160H180v160Zm220 220h160v-160H400v160Zm0 220h160v-160H400v160ZM180-400h160v-160H180v160Zm440 0h160v-160H620v160ZM180-180h160v-160H180v160Zm440 0h160v-160H620v160Z\"/>\n",
              "  </svg>\n",
              "    </button>\n",
              "\n",
              "  <style>\n",
              "    .colab-df-container {\n",
              "      display:flex;\n",
              "      gap: 12px;\n",
              "    }\n",
              "\n",
              "    .colab-df-convert {\n",
              "      background-color: #E8F0FE;\n",
              "      border: none;\n",
              "      border-radius: 50%;\n",
              "      cursor: pointer;\n",
              "      display: none;\n",
              "      fill: #1967D2;\n",
              "      height: 32px;\n",
              "      padding: 0 0 0 0;\n",
              "      width: 32px;\n",
              "    }\n",
              "\n",
              "    .colab-df-convert:hover {\n",
              "      background-color: #E2EBFA;\n",
              "      box-shadow: 0px 1px 2px rgba(60, 64, 67, 0.3), 0px 1px 3px 1px rgba(60, 64, 67, 0.15);\n",
              "      fill: #174EA6;\n",
              "    }\n",
              "\n",
              "    .colab-df-buttons div {\n",
              "      margin-bottom: 4px;\n",
              "    }\n",
              "\n",
              "    [theme=dark] .colab-df-convert {\n",
              "      background-color: #3B4455;\n",
              "      fill: #D2E3FC;\n",
              "    }\n",
              "\n",
              "    [theme=dark] .colab-df-convert:hover {\n",
              "      background-color: #434B5C;\n",
              "      box-shadow: 0px 1px 3px 1px rgba(0, 0, 0, 0.15);\n",
              "      filter: drop-shadow(0px 1px 2px rgba(0, 0, 0, 0.3));\n",
              "      fill: #FFFFFF;\n",
              "    }\n",
              "  </style>\n",
              "\n",
              "    <script>\n",
              "      const buttonEl =\n",
              "        document.querySelector('#df-bf7ba521-ad46-405c-bb17-f9e731dcfa84 button.colab-df-convert');\n",
              "      buttonEl.style.display =\n",
              "        google.colab.kernel.accessAllowed ? 'block' : 'none';\n",
              "\n",
              "      async function convertToInteractive(key) {\n",
              "        const element = document.querySelector('#df-bf7ba521-ad46-405c-bb17-f9e731dcfa84');\n",
              "        const dataTable =\n",
              "          await google.colab.kernel.invokeFunction('convertToInteractive',\n",
              "                                                    [key], {});\n",
              "        if (!dataTable) return;\n",
              "\n",
              "        const docLinkHtml = 'Like what you see? Visit the ' +\n",
              "          '<a target=\"_blank\" href=https://colab.research.google.com/notebooks/data_table.ipynb>data table notebook</a>'\n",
              "          + ' to learn more about interactive tables.';\n",
              "        element.innerHTML = '';\n",
              "        dataTable['output_type'] = 'display_data';\n",
              "        await google.colab.output.renderOutput(dataTable, element);\n",
              "        const docLink = document.createElement('div');\n",
              "        docLink.innerHTML = docLinkHtml;\n",
              "        element.appendChild(docLink);\n",
              "      }\n",
              "    </script>\n",
              "  </div>\n",
              "\n",
              "\n",
              "    <div id=\"df-9cc87294-f373-449d-bd6b-6872d143f0c5\">\n",
              "      <button class=\"colab-df-quickchart\" onclick=\"quickchart('df-9cc87294-f373-449d-bd6b-6872d143f0c5')\"\n",
              "                title=\"Suggest charts\"\n",
              "                style=\"display:none;\">\n",
              "\n",
              "<svg xmlns=\"http://www.w3.org/2000/svg\" height=\"24px\"viewBox=\"0 0 24 24\"\n",
              "     width=\"24px\">\n",
              "    <g>\n",
              "        <path d=\"M19 3H5c-1.1 0-2 .9-2 2v14c0 1.1.9 2 2 2h14c1.1 0 2-.9 2-2V5c0-1.1-.9-2-2-2zM9 17H7v-7h2v7zm4 0h-2V7h2v10zm4 0h-2v-4h2v4z\"/>\n",
              "    </g>\n",
              "</svg>\n",
              "      </button>\n",
              "\n",
              "<style>\n",
              "  .colab-df-quickchart {\n",
              "      --bg-color: #E8F0FE;\n",
              "      --fill-color: #1967D2;\n",
              "      --hover-bg-color: #E2EBFA;\n",
              "      --hover-fill-color: #174EA6;\n",
              "      --disabled-fill-color: #AAA;\n",
              "      --disabled-bg-color: #DDD;\n",
              "  }\n",
              "\n",
              "  [theme=dark] .colab-df-quickchart {\n",
              "      --bg-color: #3B4455;\n",
              "      --fill-color: #D2E3FC;\n",
              "      --hover-bg-color: #434B5C;\n",
              "      --hover-fill-color: #FFFFFF;\n",
              "      --disabled-bg-color: #3B4455;\n",
              "      --disabled-fill-color: #666;\n",
              "  }\n",
              "\n",
              "  .colab-df-quickchart {\n",
              "    background-color: var(--bg-color);\n",
              "    border: none;\n",
              "    border-radius: 50%;\n",
              "    cursor: pointer;\n",
              "    display: none;\n",
              "    fill: var(--fill-color);\n",
              "    height: 32px;\n",
              "    padding: 0;\n",
              "    width: 32px;\n",
              "  }\n",
              "\n",
              "  .colab-df-quickchart:hover {\n",
              "    background-color: var(--hover-bg-color);\n",
              "    box-shadow: 0 1px 2px rgba(60, 64, 67, 0.3), 0 1px 3px 1px rgba(60, 64, 67, 0.15);\n",
              "    fill: var(--button-hover-fill-color);\n",
              "  }\n",
              "\n",
              "  .colab-df-quickchart-complete:disabled,\n",
              "  .colab-df-quickchart-complete:disabled:hover {\n",
              "    background-color: var(--disabled-bg-color);\n",
              "    fill: var(--disabled-fill-color);\n",
              "    box-shadow: none;\n",
              "  }\n",
              "\n",
              "  .colab-df-spinner {\n",
              "    border: 2px solid var(--fill-color);\n",
              "    border-color: transparent;\n",
              "    border-bottom-color: var(--fill-color);\n",
              "    animation:\n",
              "      spin 1s steps(1) infinite;\n",
              "  }\n",
              "\n",
              "  @keyframes spin {\n",
              "    0% {\n",
              "      border-color: transparent;\n",
              "      border-bottom-color: var(--fill-color);\n",
              "      border-left-color: var(--fill-color);\n",
              "    }\n",
              "    20% {\n",
              "      border-color: transparent;\n",
              "      border-left-color: var(--fill-color);\n",
              "      border-top-color: var(--fill-color);\n",
              "    }\n",
              "    30% {\n",
              "      border-color: transparent;\n",
              "      border-left-color: var(--fill-color);\n",
              "      border-top-color: var(--fill-color);\n",
              "      border-right-color: var(--fill-color);\n",
              "    }\n",
              "    40% {\n",
              "      border-color: transparent;\n",
              "      border-right-color: var(--fill-color);\n",
              "      border-top-color: var(--fill-color);\n",
              "    }\n",
              "    60% {\n",
              "      border-color: transparent;\n",
              "      border-right-color: var(--fill-color);\n",
              "    }\n",
              "    80% {\n",
              "      border-color: transparent;\n",
              "      border-right-color: var(--fill-color);\n",
              "      border-bottom-color: var(--fill-color);\n",
              "    }\n",
              "    90% {\n",
              "      border-color: transparent;\n",
              "      border-bottom-color: var(--fill-color);\n",
              "    }\n",
              "  }\n",
              "</style>\n",
              "\n",
              "      <script>\n",
              "        async function quickchart(key) {\n",
              "          const quickchartButtonEl =\n",
              "            document.querySelector('#' + key + ' button');\n",
              "          quickchartButtonEl.disabled = true;  // To prevent multiple clicks.\n",
              "          quickchartButtonEl.classList.add('colab-df-spinner');\n",
              "          try {\n",
              "            const charts = await google.colab.kernel.invokeFunction(\n",
              "                'suggestCharts', [key], {});\n",
              "          } catch (error) {\n",
              "            console.error('Error during call to suggestCharts:', error);\n",
              "          }\n",
              "          quickchartButtonEl.classList.remove('colab-df-spinner');\n",
              "          quickchartButtonEl.classList.add('colab-df-quickchart-complete');\n",
              "        }\n",
              "        (() => {\n",
              "          let quickchartButtonEl =\n",
              "            document.querySelector('#df-9cc87294-f373-449d-bd6b-6872d143f0c5 button');\n",
              "          quickchartButtonEl.style.display =\n",
              "            google.colab.kernel.accessAllowed ? 'block' : 'none';\n",
              "        })();\n",
              "      </script>\n",
              "    </div>\n",
              "\n",
              "    </div>\n",
              "  </div>\n"
            ],
            "application/vnd.google.colaboratory.intrinsic+json": {
              "type": "dataframe",
              "summary": "{\n  \"name\": \"    display(df\",\n  \"rows\": 5,\n  \"fields\": [\n    {\n      \"column\": \"review_id\",\n      \"properties\": {\n        \"dtype\": \"number\",\n        \"std\": 1,\n        \"min\": 1,\n        \"max\": 5,\n        \"num_unique_values\": 5,\n        \"samples\": [\n          2,\n          5,\n          3\n        ],\n        \"semantic_type\": \"\",\n        \"description\": \"\"\n      }\n    },\n    {\n      \"column\": \"review_text\",\n      \"properties\": {\n        \"dtype\": \"string\",\n        \"num_unique_values\": 5,\n        \"samples\": [\n          \"Satisfactory but not impressive.\",\n          \"Amazing product, I loved it!\",\n          \"Excellent quality and fast delivery.\"\n        ],\n        \"semantic_type\": \"\",\n        \"description\": \"\"\n      }\n    },\n    {\n      \"column\": \"actual_sentiment\",\n      \"properties\": {\n        \"dtype\": \"string\",\n        \"num_unique_values\": 3,\n        \"samples\": [\n          \"negative\",\n          \"neutral\",\n          \"positive\"\n        ],\n        \"semantic_type\": \"\",\n        \"description\": \"\"\n      }\n    },\n    {\n      \"column\": \"textblob_sentiment_category\",\n      \"properties\": {\n        \"dtype\": \"string\",\n        \"num_unique_values\": 3,\n        \"samples\": [\n          \"neutral\",\n          \"negative\",\n          \"positive\"\n        ],\n        \"semantic_type\": \"\",\n        \"description\": \"\"\n      }\n    },\n    {\n      \"column\": \"actual_sentiment_encoded\",\n      \"properties\": {\n        \"dtype\": \"number\",\n        \"std\": 1,\n        \"min\": 0,\n        \"max\": 2,\n        \"num_unique_values\": 3,\n        \"samples\": [\n          0,\n          1,\n          2\n        ],\n        \"semantic_type\": \"\",\n        \"description\": \"\"\n      }\n    },\n    {\n      \"column\": \"textblob_sentiment_encoded\",\n      \"properties\": {\n        \"dtype\": \"number\",\n        \"std\": 1,\n        \"min\": 0,\n        \"max\": 2,\n        \"num_unique_values\": 3,\n        \"samples\": [\n          1,\n          0,\n          2\n        ],\n        \"semantic_type\": \"\",\n        \"description\": \"\"\n      }\n    }\n  ]\n}"
            }
          },
          "metadata": {}
        }
      ]
    },
    {
      "cell_type": "markdown",
      "source": [
        "#######\n"
      ],
      "metadata": {
        "id": "VmVsiB7OrWtg"
      }
    },
    {
      "cell_type": "markdown",
      "metadata": {
        "id": "263b4b24"
      },
      "source": [
        "# Task\n",
        "Implement a sentiment analysis model using Spark MLlib on the \"reviews_with_sentiment.csv\" dataset, compare its accuracy with TextBlob, and explore other PySpark libraries for potential accuracy improvement."
      ]
    },
    {
      "cell_type": "markdown",
      "source": [],
      "metadata": {
        "id": "m77LzQRqzVc2"
      }
    },
    {
      "cell_type": "markdown",
      "metadata": {
        "id": "6a715eb6"
      },
      "source": [
        "## Prepare data for mllib\n",
        "\n",
        "### Subtask:\n",
        "Preprocess the text data within the Spark DataFrame using Spark functions (e.g., tokenization, removing stop words), convert the text data into numerical features using a method like TF-IDF or Word2Vec within Spark MLlib, and prepare the target variable (sentiment category) as numerical labels.\n"
      ]
    },
    {
      "cell_type": "markdown",
      "metadata": {
        "id": "b4edb819"
      },
      "source": [
        "**Reasoning**:\n",
        "Preprocess the text data, convert it to numerical features, and prepare the target variable for MLlib by applying tokenization, stop word removal, hashing TF, IDF, and string indexing, then assemble the features.\n",
        "\n"
      ]
    },
    {
      "cell_type": "code",
      "metadata": {
        "colab": {
          "base_uri": "https://localhost:8080/"
        },
        "id": "d8740853",
        "outputId": "ccf85a20-f90a-4458-e0c0-dd47a0782b09"
      },
      "source": [
        "from pyspark.ml.feature import Tokenizer, StopWordsRemover, HashingTF, IDF, StringIndexer, VectorAssembler\n",
        "\n",
        "# 2. Initialize a Tokenizer\n",
        "tokenizer = Tokenizer(inputCol=\"review_text\", outputCol=\"words\")\n",
        "df_spark_tokenized = tokenizer.transform(df_spark)\n",
        "\n",
        "# 3. Initialize a StopWordsRemover\n",
        "stopwords_remover = StopWordsRemover(inputCol=\"words\", outputCol=\"filtered_words\")\n",
        "df_spark_filtered = stopwords_remover.transform(df_spark_tokenized)\n",
        "\n",
        "# 4. Initialize a StringIndexer to convert sentiment labels to numerical indices\n",
        "indexer = StringIndexer(inputCol=\"actual_sentiment\", outputCol=\"label\")\n",
        "indexer_model = indexer.fit(df_spark_filtered)\n",
        "df_spark_indexed = indexer_model.transform(df_spark_filtered)\n",
        "\n",
        "# 5. Initialize a HashingTF\n",
        "hashing_tf = HashingTF(inputCol=\"filtered_words\", outputCol=\"raw_features\", numFeatures=1000)\n",
        "df_spark_hashed = hashing_tf.transform(df_spark_indexed)\n",
        "\n",
        "# 6. Initialize an IDF\n",
        "idf = IDF(inputCol=\"raw_features\", outputCol=\"features\")\n",
        "idf_model = idf.fit(df_spark_hashed)\n",
        "df_spark_featurized = idf_model.transform(df_spark_hashed)\n",
        "\n",
        "# 7. Initialize a VectorAssembler\n",
        "assembler = VectorAssembler(inputCols=[\"features\"], outputCol=\"assembled_features\")\n",
        "\n",
        "# 8. Apply the VectorAssembler\n",
        "df_spark_assembled = assembler.transform(df_spark_featurized)\n",
        "\n",
        "# 9. Select the final features and label columns\n",
        "df_spark_final = df_spark_assembled.select(\"assembled_features\", \"label\")\n",
        "\n",
        "# 10. Display schema and show head of the final DataFrame\n",
        "print(\"Final DataFrame schema:\")\n",
        "df_spark_final.printSchema()\n",
        "print(\"\\nFinal DataFrame head:\")\n",
        "df_spark_final.show(5, truncate=False)"
      ],
      "execution_count": null,
      "outputs": [
        {
          "output_type": "stream",
          "name": "stdout",
          "text": [
            "Final DataFrame schema:\n",
            "root\n",
            " |-- assembled_features: vector (nullable = true)\n",
            " |-- label: double (nullable = false)\n",
            "\n",
            "\n",
            "Final DataFrame head:\n",
            "+---------------------------------------------------------------------------------------------------+-----+\n",
            "|assembled_features                                                                                 |label|\n",
            "+---------------------------------------------------------------------------------------------------+-----+\n",
            "|(1000,[21,447,815,859],[3.005682604407159,1.5705980791178364,3.005682604407159,3.005682604407159]) |1.0  |\n",
            "|(1000,[723,945],[2.8233610476132043,2.8233610476132043])                                           |0.0  |\n",
            "|(1000,[185,263,400,506],[3.005682604407159,3.005682604407159,3.005682604407159,2.8233610476132043])|2.0  |\n",
            "|(1000,[299,323,999],[2.8233610476132043,2.8233610476132043,2.8233610476132043])                    |1.0  |\n",
            "|(1000,[44,197,457,789],[3.005682604407159,3.005682604407159,3.005682604407159,3.005682604407159])  |2.0  |\n",
            "+---------------------------------------------------------------------------------------------------+-----+\n",
            "only showing top 5 rows\n",
            "\n"
          ]
        }
      ]
    },
    {
      "cell_type": "markdown",
      "metadata": {
        "id": "9af9a0a7"
      },
      "source": [
        "## Split data\n",
        "\n",
        "### Subtask:\n",
        "Split the Spark DataFrame into training and testing sets.\n"
      ]
    },
    {
      "cell_type": "markdown",
      "metadata": {
        "id": "6b007b8b"
      },
      "source": [
        "**Reasoning**:\n",
        "Use randomSplit to split the DataFrame into training and testing sets and print the counts.\n",
        "\n"
      ]
    },
    {
      "cell_type": "code",
      "metadata": {
        "colab": {
          "base_uri": "https://localhost:8080/"
        },
        "id": "431e1067",
        "outputId": "3ede1115-a4da-42ec-d3a6-1b84216d3bd6"
      },
      "source": [
        "# Split the DataFrame into training and testing sets\n",
        "train_df, test_df = df_spark_final.randomSplit([0.8, 0.2], seed=42)\n",
        "\n",
        "# Print the number of rows in the training and testing DataFrames\n",
        "print(\"Number of texts in the training set:\", train_df.count())\n",
        "print(\"Number of texts in the testing set:\", test_df.count())"
      ],
      "execution_count": null,
      "outputs": [
        {
          "output_type": "stream",
          "name": "stdout",
          "text": [
            "Number of texts in the training set: 83\n",
            "Number of texts in the testing set: 17\n"
          ]
        }
      ]
    },
    {
      "cell_type": "markdown",
      "metadata": {
        "id": "6251e633"
      },
      "source": [
        "## Build and train an mllib model\n",
        "\n",
        "### Subtask:\n",
        "Choose and train a classification model from Spark MLlib (e.g., Logistic Regression, Naive Bayes, or a more advanced model like a Linear Support Support Vector Machine) on the training data.\n"
      ]
    },
    {
      "cell_type": "markdown",
      "metadata": {
        "id": "41f77273"
      },
      "source": [
        "**Reasoning**:\n",
        "Import LogisticRegression, initialize the model, train it on the training data, and store the trained model.\n",
        "\n"
      ]
    },
    {
      "cell_type": "code",
      "metadata": {
        "colab": {
          "base_uri": "https://localhost:8080/"
        },
        "id": "990e0c5b",
        "outputId": "9f492045-09e4-4d3f-8e9b-7c148da8fe63"
      },
      "source": [
        "from pyspark.ml.classification import LogisticRegression\n",
        "\n",
        "# Initialize a LogisticRegression model\n",
        "lr = LogisticRegression(featuresCol=\"assembled_features\", labelCol=\"label\")\n",
        "\n",
        "# Train the LogisticRegression model on the training data\n",
        "lr_model = lr.fit(train_df)\n",
        "\n",
        "print(\"Logistic Regression model trained successfully.\")"
      ],
      "execution_count": null,
      "outputs": [
        {
          "output_type": "stream",
          "name": "stdout",
          "text": [
            "Logistic Regression model trained successfully.\n"
          ]
        }
      ]
    },
    {
      "cell_type": "markdown",
      "metadata": {
        "id": "26dd2d6f"
      },
      "source": [
        "## Make predictions\n",
        "\n",
        "### Subtask:\n",
        "Use the trained MLlib model to predict sentiment on the test data.\n"
      ]
    },
    {
      "cell_type": "markdown",
      "metadata": {
        "id": "fbf7d7b7"
      },
      "source": [
        "**Reasoning**:\n",
        "Use the trained MLlib model to predict sentiment on the test data and display the results.\n",
        "\n"
      ]
    },
    {
      "cell_type": "code",
      "metadata": {
        "colab": {
          "base_uri": "https://localhost:8080/"
        },
        "id": "e6119f6b",
        "outputId": "75d35eac-f689-4b95-85a8-4ad1e376dffa"
      },
      "source": [
        "# Use the trained model to make predictions on the test data\n",
        "predictions_df = lr_model.transform(test_df)\n",
        "\n",
        "test_review_ids = test_df.select(\"label\").rdd.map(lambda row: row[0]).collect() # Collect labels to identify test rows (assuming label mapping is consistent)\n",
        "\n",
        "df_spark_processed = df_spark_assembled.select('review_id', 'review_text', 'actual_sentiment', 'assembled_features', 'label')\n",
        "\n",
        "# Split this processed DataFrame to get the corresponding test set\n",
        "train_df_full, test_df_full = df_spark_processed.randomSplit([0.8, 0.2], seed=42)\n",
        "\n",
        "# Now, use the lr_model to predict on the test_df_full\n",
        "predictions_df_full = lr_model.transform(test_df_full)\n",
        "\n",
        "# Show the head of the DataFrame with predictions, original text, and actual sentiment\n",
        "print(\"Predictions with original text and actual sentiment:\")\n",
        "predictions_df_full.select('review_id', 'review_text', 'actual_sentiment', 'label', 'prediction').show(5, truncate=False)"
      ],
      "execution_count": null,
      "outputs": [
        {
          "output_type": "stream",
          "name": "stdout",
          "text": [
            "Predictions with original text and actual sentiment:\n",
            "+---------+-----------------------------------------+----------------+-----+----------+\n",
            "|review_id|review_text                              |actual_sentiment|label|prediction|\n",
            "+---------+-----------------------------------------+----------------+-----+----------+\n",
            "|3        |Excellent quality and fast delivery.     |positive        |2.0  |2.0       |\n",
            "|7        |Extremely dissatisfied with the purchase.|negative        |1.0  |1.0       |\n",
            "|9        |Would not recommend at all.              |negative        |1.0  |1.0       |\n",
            "|14       |Excellent quality and fast delivery.     |positive        |2.0  |2.0       |\n",
            "|20       |The product is just decent.              |neutral         |0.0  |0.0       |\n",
            "+---------+-----------------------------------------+----------------+-----+----------+\n",
            "only showing top 5 rows\n",
            "\n"
          ]
        }
      ]
    },
    {
      "cell_type": "markdown",
      "source": [],
      "metadata": {
        "id": "StKTkr7WzekX"
      }
    },
    {
      "cell_type": "code",
      "metadata": {
        "colab": {
          "base_uri": "https://localhost:8080/"
        },
        "id": "af9f8f21",
        "outputId": "6b90eb59-91a4-4eaa-9655-21e647dd41ce"
      },
      "source": [
        "from pyspark.ml.evaluation import MulticlassClassificationEvaluator\n",
        "\n",
        "# 2. Initialize a MulticlassClassificationEvaluator\n",
        "evaluator = MulticlassClassificationEvaluator(labelCol=\"label\", predictionCol=\"prediction\", metricName=\"accuracy\")\n",
        "\n",
        "# 3. Use the initialized evaluator to evaluate the predictions_df_full DataFrame\n",
        "accuracy_ml = evaluator.evaluate(predictions_df_full)\n",
        "\n",
        "# 4. Print the calculated accuracy of the MLlib model\n",
        "print(f\"Accuracy of Spark MLlib Logistic Regression model: {accuracy_ml:.4f}\")"
      ],
      "execution_count": null,
      "outputs": [
        {
          "output_type": "stream",
          "name": "stdout",
          "text": [
            "Accuracy of Spark MLlib Logistic Regression model: 1.0000\n"
          ]
        }
      ]
    },
    {
      "cell_type": "markdown",
      "metadata": {
        "id": "8de500e2"
      },
      "source": [
        "## Compare mllib accuracy with textblob accuracy\n",
        "\n",
        "### Subtask:\n",
        "Compare the accuracy of the MLlib model with the accuracy achieved by TextBlob (which we calculated in the previous task).\n"
      ]
    },
    {
      "cell_type": "code",
      "metadata": {
        "colab": {
          "base_uri": "https://localhost:8080/"
        },
        "id": "7327d5c5",
        "outputId": "c2491c75-14fe-4237-c293-f4ea8abe7bb1"
      },
      "source": [
        "# 1. Print the accuracy score of the TextBlob model\n",
        "print(f\"Accuracy of TextBlob on the dataset: {ac:.4f}\")\n",
        "\n",
        "# 2. Print the accuracy score of the Spark MLlib model\n",
        "print(f\"Accuracy of Spark MLlib Logistic Regression model: {accuracy_ml:.4f}\")\n",
        "\n",
        "# 3. Briefly compare the two accuracy scores\n",
        "print(\"\\nComparison of TextBlob and Spark MLlib Model Accuracy:\")\n",
        "if accuracy_ml > ac:\n",
        "    print(f\"The Spark MLlib Logistic Regression model ({accuracy_ml:.4f}) performed better than TextBlob ({ac:.4f}) on this dataset.\")\n",
        "elif accuracy_ml < ac:\n",
        "    print(f\"TextBlob ({ac:.4f}) performed better than the Spark MLlib Logistic Regression model ({accuracy_ml:.4f}) on this dataset.\")\n",
        "else:\n",
        "    print(f\"TextBlob and the Spark MLlib Logistic Regression model achieved the same accuracy ({accuracy_ml:.4f}) on this dataset.\")\n"
      ],
      "execution_count": null,
      "outputs": [
        {
          "output_type": "stream",
          "name": "stdout",
          "text": [
            "Accuracy of TextBlob on the dataset: 0.8600\n",
            "Accuracy of Spark MLlib Logistic Regression model: 1.0000\n",
            "\n",
            "Comparison of TextBlob and Spark MLlib Model Accuracy:\n",
            "The Spark MLlib Logistic Regression model (1.0000) performed better than TextBlob (0.8600) on this dataset.\n"
          ]
        }
      ]
    },
    {
      "cell_type": "code",
      "source": [],
      "metadata": {
        "id": "k-BnbMyOzyp9"
      },
      "execution_count": null,
      "outputs": []
    }
  ]
}